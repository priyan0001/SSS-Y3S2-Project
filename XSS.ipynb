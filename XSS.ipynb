{
 "cells": [
  {
   "cell_type": "code",
   "execution_count": 13,
   "id": "66f89786",
   "metadata": {},
   "outputs": [],
   "source": [
    "import numpy as np\n",
    "import pandas as pd\n",
    "import glob\n",
    "import time\n",
    "import pandas as pd\n",
    "import os\n",
    "import matplotlib.pyplot as plt\n",
    "import keras\n",
    "import cv2\n",
    "import tensorflow"
   ]
  },
  {
   "cell_type": "code",
   "execution_count": 14,
   "id": "3a6d6475",
   "metadata": {},
   "outputs": [],
   "source": [
    "# Load the xss datasets\n",
    "df=pd.read_csv(\"C:/Users/PRIYASUTHAN/Desktop/ISP/xss_dataset.csv\")"
   ]
  },
  {
   "cell_type": "code",
   "execution_count": 15,
   "id": "59c046fb",
   "metadata": {},
   "outputs": [
    {
     "data": {
      "text/html": [
       "<div>\n",
       "<style scoped>\n",
       "    .dataframe tbody tr th:only-of-type {\n",
       "        vertical-align: middle;\n",
       "    }\n",
       "\n",
       "    .dataframe tbody tr th {\n",
       "        vertical-align: top;\n",
       "    }\n",
       "\n",
       "    .dataframe thead th {\n",
       "        text-align: right;\n",
       "    }\n",
       "</style>\n",
       "<table border=\"1\" class=\"dataframe\">\n",
       "  <thead>\n",
       "    <tr style=\"text-align: right;\">\n",
       "      <th></th>\n",
       "      <th>Sentence</th>\n",
       "      <th>Label</th>\n",
       "    </tr>\n",
       "  </thead>\n",
       "  <tbody>\n",
       "    <tr>\n",
       "      <th>0</th>\n",
       "      <td>&lt;li&gt;&lt;a href=\"/wiki/File:Socrates.png\" class=\"i...</td>\n",
       "      <td>0</td>\n",
       "    </tr>\n",
       "    <tr>\n",
       "      <th>1</th>\n",
       "      <td>&lt;tt onmouseover=\"alert(1)\"&gt;test&lt;/tt&gt;</td>\n",
       "      <td>1</td>\n",
       "    </tr>\n",
       "    <tr>\n",
       "      <th>2</th>\n",
       "      <td>\\t &lt;/span&gt; &lt;span class=\"reference-text\"&gt;Steeri...</td>\n",
       "      <td>0</td>\n",
       "    </tr>\n",
       "    <tr>\n",
       "      <th>3</th>\n",
       "      <td>\\t &lt;/span&gt; &lt;span class=\"reference-text\"&gt;&lt;cite ...</td>\n",
       "      <td>0</td>\n",
       "    </tr>\n",
       "    <tr>\n",
       "      <th>4</th>\n",
       "      <td>\\t &lt;/span&gt;. &lt;a href=\"/wiki/Digital_object_iden...</td>\n",
       "      <td>0</td>\n",
       "    </tr>\n",
       "  </tbody>\n",
       "</table>\n",
       "</div>"
      ],
      "text/plain": [
       "                                            Sentence  Label\n",
       "0  <li><a href=\"/wiki/File:Socrates.png\" class=\"i...      0\n",
       "1               <tt onmouseover=\"alert(1)\">test</tt>      1\n",
       "2  \\t </span> <span class=\"reference-text\">Steeri...      0\n",
       "3  \\t </span> <span class=\"reference-text\"><cite ...      0\n",
       "4  \\t </span>. <a href=\"/wiki/Digital_object_iden...      0"
      ]
     },
     "execution_count": 15,
     "metadata": {},
     "output_type": "execute_result"
    }
   ],
   "source": [
    "df.head()"
   ]
  },
  {
   "cell_type": "code",
   "execution_count": 16,
   "id": "c58cf7cb",
   "metadata": {},
   "outputs": [
    {
     "data": {
      "text/plain": [
       "'<tt onmouseover=\"alert(1)\">test</tt>'"
      ]
     },
     "execution_count": 16,
     "metadata": {},
     "output_type": "execute_result"
    }
   ],
   "source": [
    "# Get Sentences data from data frame\n",
    "sentences=df['Sentence'].values\n",
    "sentences[1]"
   ]
  },
  {
   "cell_type": "code",
   "execution_count": 17,
   "id": "c939e528",
   "metadata": {},
   "outputs": [
    {
     "name": "stdout",
     "output_type": "stream",
     "text": [
      "13686\n"
     ]
    }
   ],
   "source": [
    "print(len(sentences))"
   ]
  },
  {
   "cell_type": "code",
   "execution_count": 18,
   "id": "08d887f1",
   "metadata": {},
   "outputs": [],
   "source": [
    "# Convert to ASCII\n",
    "\n",
    "def convert_to_ascii(sentence):\n",
    "    sentence_ascii=[]\n",
    "\n",
    "    for i in sentence:\n",
    "        \n",
    "        \n",
    "        \"\"\"Some characters have values very big e.d 8221 adn some are chinese letters\n",
    "        I am removing letters having values greater than 8222 and for rest greater \n",
    "        than 128 and smaller than 8222 assigning them values so they can easily be normalized\"\"\"\n",
    "       \n",
    "        if(ord(i)<8222):      # ” has ASCII of 8221\n",
    "            \n",
    "            if(ord(i)==8217): # ’  :  8217\n",
    "                sentence_ascii.append(134)\n",
    "            \n",
    "            \n",
    "            if(ord(i)==8221): # ”  :  8221\n",
    "                sentence_ascii.append(129)\n",
    "                \n",
    "            if(ord(i)==8220): # “  :  8220\n",
    "                sentence_ascii.append(130)\n",
    "                \n",
    "                \n",
    "            if(ord(i)==8216): # ‘  :  8216\n",
    "                sentence_ascii.append(131)\n",
    "                \n",
    "            if(ord(i)==8217): # ’  :  8217\n",
    "                sentence_ascii.append(132)\n",
    "            \n",
    "            if(ord(i)==8211): # –  :  8211\n",
    "                sentence_ascii.append(133)\n",
    "                \n",
    "                \n",
    "            \"\"\"\n",
    "            If values less than 128 store them else discard them\n",
    "            \"\"\"\n",
    "            if (ord(i)<=128):\n",
    "                    sentence_ascii.append(ord(i))\n",
    "    \n",
    "            else:\n",
    "                    pass\n",
    "            \n",
    "\n",
    "    zer=np.zeros((10000))\n",
    "\n",
    "    for i in range(len(sentence_ascii)):\n",
    "        zer[i]=sentence_ascii[i]\n",
    "\n",
    "    zer.shape=(100, 100)\n",
    "\n",
    "\n",
    "#     plt.plot(image)\n",
    "#     plt.show()\n",
    "    return zer"
   ]
  },
  {
   "cell_type": "code",
   "execution_count": 19,
   "id": "a0889c74",
   "metadata": {},
   "outputs": [],
   "source": [
    "# send each sentence to be converted to ASCII\n",
    "\n",
    "\n",
    "arr=np.zeros((len(sentences),100,100))\n",
    "\n",
    "for i in range(len(sentences)):\n",
    "    \n",
    "    image=convert_to_ascii(sentences[i])\n",
    "\n",
    "    x=np.asarray(image,dtype='float')\n",
    "    image =  cv2.resize(x, dsize=(100,100), interpolation=cv2.INTER_CUBIC)\n",
    "    image/=128\n",
    "\n",
    "    \n",
    "#     if i==1:\n",
    "#         plt.plot(image)\n",
    "#         plt.show()    \n",
    "    arr[i]=image"
   ]
  },
  {
   "cell_type": "code",
   "execution_count": 20,
   "id": "584864b7",
   "metadata": {},
   "outputs": [
    {
     "name": "stdout",
     "output_type": "stream",
     "text": [
      "Input data shape :  (13686, 100, 100)\n"
     ]
    }
   ],
   "source": [
    "print(\"Input data shape : \", arr.shape)"
   ]
  },
  {
   "cell_type": "code",
   "execution_count": 21,
   "id": "2a3a2bcc",
   "metadata": {},
   "outputs": [],
   "source": [
    "# Reshape data for input to CNN\n",
    "data = arr.reshape(arr.shape[0], 100, 100, 1)"
   ]
  },
  {
   "cell_type": "code",
   "execution_count": 22,
   "id": "39881366",
   "metadata": {},
   "outputs": [
    {
     "data": {
      "text/plain": [
       "(13686, 100, 100, 1)"
      ]
     },
     "execution_count": 22,
     "metadata": {},
     "output_type": "execute_result"
    }
   ],
   "source": [
    "data.shape"
   ]
  },
  {
   "cell_type": "code",
   "execution_count": 23,
   "id": "28d69da5",
   "metadata": {},
   "outputs": [],
   "source": [
    "y=df['Label'].values"
   ]
  },
  {
   "cell_type": "code",
   "execution_count": 24,
   "id": "8b754d3a",
   "metadata": {},
   "outputs": [],
   "source": [
    "# Split into train/test data\n",
    "from sklearn.model_selection import train_test_split\n",
    "trainX, testX, trainY, testY = train_test_split(data,y, test_size=0.2, random_state=42)"
   ]
  },
  {
   "cell_type": "code",
   "execution_count": 25,
   "id": "fc695318",
   "metadata": {},
   "outputs": [],
   "source": [
    "# import libraries for Making Model\n",
    "import tensorflow as tf\n",
    "from keras.models import Sequential\n",
    "from keras.layers import Dense, Activation, Conv2D, MaxPooling2D,Flatten,Dropout,MaxPool2D, BatchNormalization"
   ]
  },
  {
   "cell_type": "code",
   "execution_count": 26,
   "id": "1bb053dd",
   "metadata": {},
   "outputs": [],
   "source": [
    "# A basic CNN Model\n",
    "# Number of layers = 11\n",
    "# Number of Convolutional layer: 3\n",
    "\n",
    "model=tf.keras.models.Sequential([\n",
    "    \n",
    "    tf.keras.layers.Conv2D(64,(3,3), activation=tf.nn.relu, input_shape=(100,100,1)),\n",
    "    tf.keras.layers.MaxPooling2D(2,2),\n",
    "    \n",
    "    tf.keras.layers.Conv2D(128,(3,3), activation='relu'),\n",
    "    tf.keras.layers.MaxPooling2D(2,2),\n",
    "    \n",
    "    tf.keras.layers.Conv2D(256,(3,3), activation='relu'),\n",
    "    tf.keras.layers.MaxPooling2D(2,2),\n",
    "    \n",
    "    tf.keras.layers.Flatten(),\n",
    "    tf.keras.layers.Dense(256, activation='relu'),\n",
    "    tf.keras.layers.Dense(128, activation='relu'),\n",
    "    tf.keras.layers.Dense(64, activation='relu'),\n",
    "    tf.keras.layers.Dense(1, activation='sigmoid')\n",
    "    \n",
    "])"
   ]
  },
  {
   "cell_type": "code",
   "execution_count": 27,
   "id": "ae398f1d",
   "metadata": {},
   "outputs": [
    {
     "name": "stdout",
     "output_type": "stream",
     "text": [
      "Model: \"sequential\"\n",
      "_________________________________________________________________\n",
      " Layer (type)                Output Shape              Param #   \n",
      "=================================================================\n",
      " conv2d (Conv2D)             (None, 98, 98, 64)        640       \n",
      "                                                                 \n",
      " max_pooling2d (MaxPooling2D  (None, 49, 49, 64)       0         \n",
      " )                                                               \n",
      "                                                                 \n",
      " conv2d_1 (Conv2D)           (None, 47, 47, 128)       73856     \n",
      "                                                                 \n",
      " max_pooling2d_1 (MaxPooling  (None, 23, 23, 128)      0         \n",
      " 2D)                                                             \n",
      "                                                                 \n",
      " conv2d_2 (Conv2D)           (None, 21, 21, 256)       295168    \n",
      "                                                                 \n",
      " max_pooling2d_2 (MaxPooling  (None, 10, 10, 256)      0         \n",
      " 2D)                                                             \n",
      "                                                                 \n",
      " flatten (Flatten)           (None, 25600)             0         \n",
      "                                                                 \n",
      " dense (Dense)               (None, 256)               6553856   \n",
      "                                                                 \n",
      " dense_1 (Dense)             (None, 128)               32896     \n",
      "                                                                 \n",
      " dense_2 (Dense)             (None, 64)                8256      \n",
      "                                                                 \n",
      " dense_3 (Dense)             (None, 1)                 65        \n",
      "                                                                 \n",
      "=================================================================\n",
      "Total params: 6,964,737\n",
      "Trainable params: 6,964,737\n",
      "Non-trainable params: 0\n",
      "_________________________________________________________________\n"
     ]
    }
   ],
   "source": [
    "model.compile(loss='binary_crossentropy', \n",
    "              optimizer='adam', \n",
    "              metrics=['accuracy'])\n",
    "model.summary()"
   ]
  },
  {
   "cell_type": "code",
   "execution_count": 28,
   "id": "ccbf0018",
   "metadata": {},
   "outputs": [],
   "source": [
    "# Stop when validation accuracy > 97\n",
    "\n",
    "class myCallback(tf.keras.callbacks.Callback):\n",
    "    def on_epoch_end(self, epoch, logs={}):\n",
    "        if(logs.get('val_accuracy')>0.97):\n",
    "            print(\" \\n Reached 97% + validation accuracy\")\n",
    "            self.model.stop_training=True\n",
    "callbacks = myCallback()"
   ]
  },
  {
   "cell_type": "code",
   "execution_count": 30,
   "id": "1045dc4a",
   "metadata": {},
   "outputs": [
    {
     "name": "stdout",
     "output_type": "stream",
     "text": [
      "Epoch 1/10\n",
      "86/86 [==============================] - 222s 3s/step - loss: 0.4275 - accuracy: 0.7974 - val_loss: 0.3506 - val_accuracy: 0.8170\n",
      "Epoch 2/10\n",
      "86/86 [==============================] - 219s 3s/step - loss: 0.1546 - accuracy: 0.9463 - val_loss: 0.0865 - val_accuracy: 0.9766\n",
      "Epoch 3/10\n",
      "86/86 [==============================] - 223s 3s/step - loss: 0.0650 - accuracy: 0.9816 - val_loss: 0.0730 - val_accuracy: 0.9806\n",
      "Epoch 4/10\n",
      "86/86 [==============================] - 224s 3s/step - loss: 0.0506 - accuracy: 0.9859 - val_loss: 0.0555 - val_accuracy: 0.9828\n",
      "Epoch 5/10\n",
      "86/86 [==============================] - 225s 3s/step - loss: 0.0457 - accuracy: 0.9876 - val_loss: 0.0504 - val_accuracy: 0.9865\n",
      "Epoch 6/10\n",
      "86/86 [==============================] - 221s 3s/step - loss: 0.0391 - accuracy: 0.9891 - val_loss: 0.0453 - val_accuracy: 0.9865\n",
      "Epoch 7/10\n",
      "86/86 [==============================] - 223s 3s/step - loss: 0.0339 - accuracy: 0.9910 - val_loss: 0.0423 - val_accuracy: 0.9879\n",
      "Epoch 8/10\n",
      "86/86 [==============================] - 223s 3s/step - loss: 0.0302 - accuracy: 0.9913 - val_loss: 0.0399 - val_accuracy: 0.9887\n",
      "Epoch 9/10\n",
      "86/86 [==============================] - 217s 3s/step - loss: 0.0247 - accuracy: 0.9923 - val_loss: 0.0535 - val_accuracy: 0.9872\n",
      "Epoch 10/10\n",
      "86/86 [==============================] - 214s 2s/step - loss: 0.0248 - accuracy: 0.9915 - val_loss: 0.0415 - val_accuracy: 0.9890\n"
     ]
    }
   ],
   "source": [
    "batch_size = 128\n",
    "num_epoch = 10\n",
    "#model training\n",
    "model_log = model.fit(trainX, trainY,\n",
    "          batch_size=batch_size,\n",
    "          epochs=num_epoch,\n",
    "          verbose=1,\n",
    "          validation_data=( testX,  testY)\n",
    "#                        callbacks=[callbacks]\n",
    "                     )"
   ]
  },
  {
   "cell_type": "code",
   "execution_count": 31,
   "id": "e990598c",
   "metadata": {},
   "outputs": [
    {
     "name": "stdout",
     "output_type": "stream",
     "text": [
      "86/86 [==============================] - 14s 151ms/step\n"
     ]
    }
   ],
   "source": [
    "# predict for test set\n",
    "pred=model.predict(testX)"
   ]
  },
  {
   "cell_type": "code",
   "execution_count": 32,
   "id": "cfb3b572",
   "metadata": {},
   "outputs": [],
   "source": [
    "# Threshold values predicted\n",
    "\n",
    "for i in range(len(pred)):\n",
    "    if pred[i]>0.5:\n",
    "        pred[i]=1\n",
    "    elif pred[i]<=0.5:\n",
    "        pred[i]=0"
   ]
  },
  {
   "cell_type": "code",
   "execution_count": 33,
   "id": "cddaabfb",
   "metadata": {},
   "outputs": [
    {
     "name": "stdout",
     "output_type": "stream",
     "text": [
      "correct predicted ::  2708\n",
      "false prediction ::  30\n"
     ]
    }
   ],
   "source": [
    "# Count True predicted and wrong predicted\n",
    "\n",
    "true=0\n",
    "false=0\n",
    "\n",
    "for i in range(len(pred)):\n",
    "    if pred[i] == testY[i]:\n",
    "        true+=1\n",
    "    else:\n",
    "        false+=1\n",
    "        \n",
    "print(\"correct predicted :: \", true)\n",
    "print(\"false prediction :: \", false)"
   ]
  },
  {
   "cell_type": "code",
   "execution_count": 34,
   "id": "dc9ae9ae",
   "metadata": {},
   "outputs": [
    {
     "name": "stdout",
     "output_type": "stream",
     "text": [
      "Attack data in test set ::  1478\n",
      " Benign data in test set ::  1260\n"
     ]
    }
   ],
   "source": [
    "# Number of attack and benign data in test set\n",
    "\n",
    "attack=0\n",
    "benign=0\n",
    "for i in range(len(testY)):\n",
    "    if testY[i]==1:\n",
    "        attack+=1\n",
    "    else:\n",
    "        benign+=1\n",
    "\n",
    "print(\"Attack data in test set :: \", attack)\n",
    "print(\" Benign data in test set :: \", benign)"
   ]
  },
  {
   "cell_type": "code",
   "execution_count": 35,
   "id": "9d771fcc",
   "metadata": {},
   "outputs": [
    {
     "name": "stdout",
     "output_type": "stream",
     "text": [
      " Accuracy : 0.9890430971512053 \n",
      " Precision : 0.9820239680426098 \n",
      " Recall : 0.9979702300405954\n"
     ]
    }
   ],
   "source": [
    "# Takes True positive, true negative, false positive and false negative as input\n",
    "# Returns Accuracy\n",
    "\n",
    "def accuracy_function(tp,tn,fp,fn):\n",
    "    \n",
    "    accuracy = (tp+tn) / (tp+tn+fp+fn)\n",
    "    \n",
    "    return accuracy\n",
    "# Takes True Positive and false positive\n",
    "# Returns Precision\n",
    "\n",
    "def precision_function(tp,fp):\n",
    "    \n",
    "    precision = tp / (tp+fp)\n",
    "    \n",
    "    return precision\n",
    "#Takes True Positive and false negative\n",
    "# Returns Recall\n",
    "\n",
    "def recall_function(tp,fn):\n",
    "    \n",
    "    recall=tp / (tp+fn)\n",
    "    \n",
    "    return recall\n",
    "#Takes true values and predicted\n",
    "# Returns Accuracy, precision and recall\n",
    "\n",
    "\n",
    "def confusion_matrix(truth,predicted):\n",
    "    \n",
    "    true_positive = 0\n",
    "    true_negative = 0\n",
    "    false_positive = 0\n",
    "    false_negative = 0\n",
    "    \n",
    "    for true,pred in zip(truth,predicted):\n",
    "        if true == 1:\n",
    "            if pred == true:\n",
    "                true_positive += 1\n",
    "            elif pred != true:\n",
    "                false_negative += 1\n",
    "\n",
    "        elif true == 0:\n",
    "            if pred == true:\n",
    "                true_negative += 1\n",
    "            elif pred != true:\n",
    "                false_positive += 1\n",
    "            \n",
    "    accuracy=accuracy_function(true_positive, true_negative, false_positive, false_negative)\n",
    "    precision=precision_function(true_positive, false_positive)\n",
    "    recall=recall_function(true_positive, false_negative)\n",
    "    \n",
    "    return (accuracy,\n",
    "            precision,\n",
    "           recall)\n",
    "accuracy,precision,recall=confusion_matrix(testY,pred)\n",
    "print(\" Accuracy : {0} \\n Precision : {1} \\n Recall : {2}\".format(accuracy, precision, recall))"
   ]
  },
  {
   "cell_type": "code",
   "execution_count": 36,
   "id": "b21bf409",
   "metadata": {},
   "outputs": [
    {
     "name": "stdout",
     "output_type": "stream",
     "text": [
      "Requirement already satisfied: h5py in c:\\users\\priyasuthan\\anaconda3\\lib\\site-packages (3.7.0)Note: you may need to restart the kernel to use updated packages.\n",
      "\n",
      "Requirement already satisfied: numpy>=1.14.5 in c:\\users\\priyasuthan\\anaconda3\\lib\\site-packages (from h5py) (1.23.5)\n"
     ]
    }
   ],
   "source": [
    "pip install h5py"
   ]
  },
  {
   "cell_type": "code",
   "execution_count": 37,
   "id": "270de727",
   "metadata": {},
   "outputs": [],
   "source": [
    "import h5py\n"
   ]
  },
  {
   "cell_type": "code",
   "execution_count": 39,
   "id": "4df3d3b3",
   "metadata": {},
   "outputs": [],
   "source": [
    "model.save(\"combined.h5\")"
   ]
  },
  {
   "cell_type": "code",
   "execution_count": null,
   "id": "d354d8e5",
   "metadata": {},
   "outputs": [],
   "source": []
  }
 ],
 "metadata": {
  "kernelspec": {
   "display_name": "Python 3 (ipykernel)",
   "language": "python",
   "name": "python3"
  },
  "language_info": {
   "codemirror_mode": {
    "name": "ipython",
    "version": 3
   },
   "file_extension": ".py",
   "mimetype": "text/x-python",
   "name": "python",
   "nbconvert_exporter": "python",
   "pygments_lexer": "ipython3",
   "version": "3.9.13"
  }
 },
 "nbformat": 4,
 "nbformat_minor": 5
}
